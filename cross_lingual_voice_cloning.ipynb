{
  "nbformat": 4,
  "nbformat_minor": 0,
  "metadata": {
    "colab": {
      "name": "cross_lingual_voice_cloning.ipynb",
      "provenance": [],
      "collapsed_sections": [],
      "mount_file_id": "17gALcrUI8VVXvJsA2-5nsdGkGyoQ9Z2E",
      "authorship_tag": "ABX9TyOFktLOZzofl3t6OjmYJhUV",
      "include_colab_link": true
    },
    "kernelspec": {
      "name": "python3",
      "display_name": "Python 3"
    }
  },
  "cells": [
    {
      "cell_type": "markdown",
      "metadata": {
        "id": "view-in-github",
        "colab_type": "text"
      },
      "source": [
        "<a href=\"https://colab.research.google.com/github/Jeevesh8/Cross-Lingual-Voice-Cloning/blob/master/cross_lingual_voice_cloning.ipynb\" target=\"_parent\"><img src=\"https://colab.research.google.com/assets/colab-badge.svg\" alt=\"Open In Colab\"/></a>"
      ]
    },
    {
      "cell_type": "code",
      "metadata": {
        "id": "difDY-oMceVI",
        "colab_type": "code",
        "colab": {}
      },
      "source": [
        "%cd '/content/drive/My Drive/'"
      ],
      "execution_count": 0,
      "outputs": []
    },
    {
      "cell_type": "code",
      "metadata": {
        "id": "6ew_JScofHup",
        "colab_type": "code",
        "colab": {}
      },
      "source": [
        "!git clone https://github.com/Jeevesh8/Cross-Lingual-Voice-Cloning"
      ],
      "execution_count": 0,
      "outputs": []
    },
    {
      "cell_type": "code",
      "metadata": {
        "id": "4LzosgsfsRN-",
        "colab_type": "code",
        "colab": {}
      },
      "source": [
        "##To Install Apex\n",
        "%cd /content/drive/My\\ Drive/\n",
        "!git clone https://github.com/NVIDIA/apex\n",
        "%cd apex\n",
        "!pip install -v --no-cache-dir ./\n",
        "%cd /content/drive/My\\ Drive"
      ],
      "execution_count": 0,
      "outputs": []
    },
    {
      "cell_type": "code",
      "metadata": {
        "id": "czzuHjLKdMVe",
        "colab_type": "code",
        "colab": {}
      },
      "source": [
        "%cd Cross-Lingual-Voice-Cloning/"
      ],
      "execution_count": 0,
      "outputs": []
    },
    {
      "cell_type": "markdown",
      "metadata": {
        "id": "L8Jxa5fknTVp",
        "colab_type": "text"
      },
      "source": [
        "Change \" train_txt_file_path \" and \" val_txt_file_path \" in hparams.py"
      ]
    },
    {
      "cell_type": "code",
      "metadata": {
        "id": "WTYYnt6DfJNW",
        "colab_type": "code",
        "colab": {}
      },
      "source": [
        "!git pull origin master"
      ],
      "execution_count": 0,
      "outputs": []
    },
    {
      "cell_type": "code",
      "metadata": {
        "id": "D04kp34FdQpC",
        "colab_type": "code",
        "colab": {}
      },
      "source": [
        "!git submodule init\n",
        "!git submodule update"
      ],
      "execution_count": 0,
      "outputs": []
    },
    {
      "cell_type": "code",
      "metadata": {
        "id": "V4fFU31pgF2W",
        "colab_type": "code",
        "colab": {}
      },
      "source": [
        "%cd ..\n",
        "!mkdir log_dir"
      ],
      "execution_count": 0,
      "outputs": []
    },
    {
      "cell_type": "code",
      "metadata": {
        "id": "7j4I3pLKChUG",
        "colab_type": "code",
        "colab": {}
      },
      "source": [
        "!mkdir out_dir\n",
        "%cd Cross-Lingual-Voice-Cloning"
      ],
      "execution_count": 0,
      "outputs": []
    },
    {
      "cell_type": "code",
      "metadata": {
        "id": "9mY5tpKUC27R",
        "colab_type": "code",
        "colab": {}
      },
      "source": [
        "!pip install Unidecode"
      ],
      "execution_count": 0,
      "outputs": []
    },
    {
      "cell_type": "code",
      "metadata": {
        "id": "tciOhWDqnOLy",
        "colab_type": "code",
        "colab": {}
      },
      "source": [
        "!pip install tensorflow==1.15.2"
      ],
      "execution_count": 0,
      "outputs": []
    },
    {
      "cell_type": "code",
      "metadata": {
        "id": "pclx0tWLC8uY",
        "colab_type": "code",
        "colab": {}
      },
      "source": [
        "!python train.py --output_directory=../out_dir --log_directory=../log_dir"
      ],
      "execution_count": 0,
      "outputs": []
    }
  ]
}